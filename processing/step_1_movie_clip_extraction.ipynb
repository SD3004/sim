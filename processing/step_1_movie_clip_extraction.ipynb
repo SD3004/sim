{
 "cells": [
  {
   "cell_type": "code",
   "execution_count": 1,
   "metadata": {},
   "outputs": [],
   "source": [
    "import cv2\n",
    "import os"
   ]
  },
  {
   "cell_type": "markdown",
   "metadata": {},
   "source": [
    "This file was modified recently and is working"
   ]
  },
  {
   "cell_type": "markdown",
   "metadata": {},
   "source": [
    "## MOVIE 1"
   ]
  },
  {
   "cell_type": "code",
   "execution_count": null,
   "metadata": {},
   "outputs": [
    {
     "name": "stdout",
     "output_type": "stream",
     "text": [
      "Directory already exist\n"
     ]
    }
   ],
   "source": [
    "# Parameters\n",
    "clip_duration = 3  # seconds\n",
    "\n",
    "video_path = '/home/sd20/data/HCP/movies/Pre_20140821_version/7T_MOVIE1_CC1.mp4'\n",
    "output_dir = '/home/sd20/data/HCP/movies/Pre_20140821_version/clips_7T_MOVIE1_CC1/{}s/'.format(clip_duration)\n",
    "\n",
    "# Ensure output directory exists\n",
    "if not os.path.exists(output_dir):\n",
    "    os.makedirs(output_dir)\n",
    "    print('Create directory')\n",
    "else:\n",
    "    print('Directory already exist')\n",
    "\n",
    "# Load the video\n",
    "video = cv2.VideoCapture(video_path)\n",
    "\n",
    "# Check if video opened successfully\n",
    "if not video.isOpened():\n",
    "    print(\"Error: Could not open video.\")\n",
    "    exit()\n"
   ]
  },
  {
   "cell_type": "code",
   "execution_count": 19,
   "metadata": {},
   "outputs": [
    {
     "name": "stdout",
     "output_type": "stream",
     "text": [
      "fps: 24\n",
      "frames per clip: 120\n",
      "Extracted 917 clips.\n"
     ]
    }
   ],
   "source": [
    "# Get video properties\n",
    "fps = int(video.get(cv2.CAP_PROP_FPS))\n",
    "frames_per_clip = clip_duration * fps\n",
    "print('fps: {}'.format(fps))\n",
    "print('frames per clip: {}'.format(frames_per_clip))\n",
    "\n",
    "total_duration = int(video.get(cv2.CAP_PROP_FRAME_COUNT) / fps)\n",
    "clip_count = 0\n",
    "start_frame = 2\n",
    "nbr_frames = 2\n",
    "\n",
    "for t in range(start_frame, total_duration-nbr_frames+1):\n",
    "#for t in range(1, total_duration+1):  # Start from the 1st second\n",
    "    #start_frame = (t - 1.5) * fps\n",
    "    #end_frame = (t + 1.5) * fps\n",
    "    start_frame = (t - nbr_frames) * fps\n",
    "    end_frame = (t + nbr_frames) * fps\n",
    "\n",
    "    # Set video position to start_frame\n",
    "    video.set(cv2.CAP_PROP_POS_FRAMES, start_frame)\n",
    "\n",
    "    frames = []\n",
    "    for _ in range(frames_per_clip):\n",
    "        ret, frame = video.read()\n",
    "        if not ret:\n",
    "            break\n",
    "        frames.append(frame)\n",
    "\n",
    "    # If we read enough frames for a clip, save it\n",
    "    if len(frames) == frames_per_clip:\n",
    "        clip_path = os.path.join(output_dir, f\"clip_{str(clip_count).zfill(3)}.mp4\")\n",
    "        fourcc = cv2.VideoWriter_fourcc(*'mp4v')\n",
    "        out = cv2.VideoWriter(clip_path, fourcc, fps, (frames[0].shape[1], frames[0].shape[0]))\n",
    "        for frame in frames:\n",
    "            out.write(frame)\n",
    "        out.release()\n",
    "        clip_count += 1\n",
    "\n",
    "# Release the video object\n",
    "video.release()\n",
    "\n",
    "print(f\"Extracted {clip_count} clips.\")"
   ]
  },
  {
   "cell_type": "markdown",
   "metadata": {},
   "source": [
    "## MOVIE 2"
   ]
  },
  {
   "cell_type": "code",
   "execution_count": 20,
   "metadata": {},
   "outputs": [],
   "source": [
    "# Parameters\n",
    "clip_duration = 5\n",
    "video_path = '/home/sd20/data/HCP/movies/Pre_20140821_version/7T_MOVIE2_HO1.mp4'\n",
    "output_dir = '/home/sd20/data/HCP/movies/Pre_20140821_version/clips_7T_MOVIE2_HO1/{}s/'.format(clip_duration)\n",
    "\n",
    "# Ensure output directory exists\n",
    "if not os.path.exists(output_dir):\n",
    "    os.makedirs(output_dir)\n",
    "\n",
    "# Load the video\n",
    "video = cv2.VideoCapture(video_path)\n",
    "\n",
    "# Check if video opened successfully\n",
    "if not video.isOpened():\n",
    "    print(\"Error: Could not open video.\")\n",
    "    exit()\n"
   ]
  },
  {
   "cell_type": "code",
   "execution_count": 21,
   "metadata": {},
   "outputs": [
    {
     "name": "stdout",
     "output_type": "stream",
     "text": [
      "fps: 24\n",
      "frames per clip: 120\n"
     ]
    },
    {
     "name": "stdout",
     "output_type": "stream",
     "text": [
      "Extracted 914 clips.\n"
     ]
    }
   ],
   "source": [
    "# Get video properties\n",
    "fps = int(video.get(cv2.CAP_PROP_FPS))\n",
    "frames_per_clip = clip_duration * fps\n",
    "print('fps: {}'.format(fps))\n",
    "print('frames per clip: {}'.format(frames_per_clip))\n",
    "\n",
    "total_duration = int(video.get(cv2.CAP_PROP_FRAME_COUNT) / fps)\n",
    "clip_count = 0\n",
    "start_frame = 2 #0, 5, \n",
    "nbr_frames = 2 #1.5, 5\n",
    "\n",
    "for t in range(start_frame,  total_duration-nbr_frames+1):  # Start from the 1st second\n",
    "    start_frame = (t - nbr_frames) * fps\n",
    "    end_frame = (t + nbr_frames) * fps\n",
    "\n",
    "    # Set video position to start_frame\n",
    "    video.set(cv2.CAP_PROP_POS_FRAMES, start_frame)\n",
    "\n",
    "    frames = []\n",
    "    for _ in range(frames_per_clip):\n",
    "        ret, frame = video.read()\n",
    "        if not ret:\n",
    "            break\n",
    "        frames.append(frame)\n",
    "\n",
    "    # If we read enough frames for a clip, save it\n",
    "    if len(frames) == frames_per_clip:\n",
    "        clip_path = os.path.join(output_dir, f\"clip_{str(clip_count).zfill(3)}.mp4\")\n",
    "        fourcc = cv2.VideoWriter_fourcc(*'mp4v')\n",
    "        out = cv2.VideoWriter(clip_path, fourcc, fps, (frames[0].shape[1], frames[0].shape[0]))\n",
    "        for frame in frames:\n",
    "            out.write(frame)\n",
    "        out.release()\n",
    "        clip_count += 1\n",
    "\n",
    "# Release the video object\n",
    "video.release()\n",
    "\n",
    "print(f\"Extracted {clip_count} clips.\")"
   ]
  },
  {
   "cell_type": "markdown",
   "metadata": {},
   "source": [
    "## MOVIE 3"
   ]
  },
  {
   "cell_type": "code",
   "execution_count": 22,
   "metadata": {},
   "outputs": [],
   "source": [
    "# Parameters\n",
    "clip_duration = 5 # seconds\n",
    "\n",
    "video_path = '/home/sd20/data/HCP/movies/Pre_20140821_version/7T_MOVIE3_CC2.mp4'\n",
    "output_dir = '/home/sd20/data/HCP/movies/Pre_20140821_version/clips_7T_MOVIE3_CC2/{}s/'.format(clip_duration)\n",
    "\n",
    "# Ensure output directory exists\n",
    "if not os.path.exists(output_dir):\n",
    "    os.makedirs(output_dir)\n",
    "\n",
    "# Load the video\n",
    "video = cv2.VideoCapture(video_path)\n",
    "\n",
    "# Check if video opened successfully\n",
    "if not video.isOpened():\n",
    "    print(\"Error: Could not open video.\")\n",
    "    exit()"
   ]
  },
  {
   "cell_type": "code",
   "execution_count": 23,
   "metadata": {},
   "outputs": [
    {
     "name": "stdout",
     "output_type": "stream",
     "text": [
      "fps: 24\n",
      "frames per clip: 120\n"
     ]
    },
    {
     "name": "stdout",
     "output_type": "stream",
     "text": [
      "Extracted 911 clips.\n"
     ]
    }
   ],
   "source": [
    "# Get video properties\n",
    "fps = int(video.get(cv2.CAP_PROP_FPS))\n",
    "frames_per_clip = clip_duration * fps\n",
    "print('fps: {}'.format(fps))\n",
    "print('frames per clip: {}'.format(frames_per_clip))\n",
    "\n",
    "total_duration = int(video.get(cv2.CAP_PROP_FRAME_COUNT) / fps)\n",
    "clip_count = 0\n",
    "start_frame =2\n",
    "nbr_frames = 2\n",
    "\n",
    "for t in range(start_frame,  total_duration-nbr_frames+1):  # Start from the 1st second\n",
    "    start_frame = (t - nbr_frames) * fps\n",
    "    end_frame = (t + nbr_frames) * fps\n",
    "\n",
    "    # Set video position to start_frame\n",
    "    video.set(cv2.CAP_PROP_POS_FRAMES, start_frame)\n",
    "\n",
    "    frames = []\n",
    "    for _ in range(frames_per_clip):\n",
    "        ret, frame = video.read()\n",
    "        if not ret:\n",
    "            break\n",
    "        frames.append(frame)\n",
    "\n",
    "    # If we read enough frames for a clip, save it\n",
    "    if len(frames) == frames_per_clip:\n",
    "        clip_path = os.path.join(output_dir, f\"clip_{str(clip_count).zfill(3)}.mp4\")\n",
    "        fourcc = cv2.VideoWriter_fourcc(*'mp4v')\n",
    "        out = cv2.VideoWriter(clip_path, fourcc, fps, (frames[0].shape[1], frames[0].shape[0]))\n",
    "        for frame in frames:\n",
    "            out.write(frame)\n",
    "        out.release()\n",
    "        clip_count += 1\n",
    "\n",
    "# Release the video object\n",
    "video.release()\n",
    "\n",
    "print(f\"Extracted {clip_count} clips.\")"
   ]
  },
  {
   "cell_type": "markdown",
   "metadata": {},
   "source": [
    "## MOVIE 4"
   ]
  },
  {
   "cell_type": "code",
   "execution_count": 24,
   "metadata": {},
   "outputs": [],
   "source": [
    "# Parameters\n",
    "clip_duration = 5  # seconds\n",
    "\n",
    "video_path = '/home/sd20/data/HCP/movies/Pre_20140821_version/7T_MOVIE4_HO2.mp4'\n",
    "output_dir = '/home/sd20/data/HCP/movies/Pre_20140821_version/clips_7T_MOVIE4_HO2/{}s/'.format(clip_duration)\n",
    "\n",
    "# Ensure output directory exists\n",
    "if not os.path.exists(output_dir):\n",
    "    os.makedirs(output_dir)\n",
    "\n",
    "# Load the video\n",
    "video = cv2.VideoCapture(video_path)\n",
    "\n",
    "# Check if video opened successfully\n",
    "if not video.isOpened():\n",
    "    print(\"Error: Could not open video.\")\n",
    "    exit()"
   ]
  },
  {
   "cell_type": "code",
   "execution_count": 25,
   "metadata": {},
   "outputs": [
    {
     "name": "stdout",
     "output_type": "stream",
     "text": [
      "fps: 24\n",
      "frames per clip: 120\n",
      "900\n"
     ]
    },
    {
     "name": "stdout",
     "output_type": "stream",
     "text": [
      "Extracted 896 clips.\n"
     ]
    }
   ],
   "source": [
    "# Get video properties\n",
    "fps = int(video.get(cv2.CAP_PROP_FPS))\n",
    "frames_per_clip = clip_duration * fps\n",
    "print('fps: {}'.format(fps))\n",
    "print('frames per clip: {}'.format(frames_per_clip))\n",
    "\n",
    "total_duration = int(video.get(cv2.CAP_PROP_FRAME_COUNT) / fps)\n",
    "print(total_duration)\n",
    "clip_count = 0\n",
    "start_frame = 2\n",
    "nbr_frames = 2\n",
    "\n",
    "for t in range(start_frame,  total_duration-nbr_frames+1):  # Start from the 1st second\n",
    "    start_frame = (t - nbr_frames) * fps\n",
    "    end_frame = (t + nbr_frames) * fps\n",
    "\n",
    "    # Set video position to start_frame\n",
    "    video.set(cv2.CAP_PROP_POS_FRAMES, start_frame)\n",
    "\n",
    "    frames = []\n",
    "    for _ in range(frames_per_clip):\n",
    "        ret, frame = video.read()\n",
    "        if not ret:\n",
    "            break\n",
    "        frames.append(frame)\n",
    "\n",
    "    # If we read enough frames for a clip, save it\n",
    "    if len(frames) == frames_per_clip:\n",
    "        clip_path = os.path.join(output_dir, f\"clip_{str(clip_count).zfill(3)}.mp4\")\n",
    "        fourcc = cv2.VideoWriter_fourcc(*'mp4v')\n",
    "        out = cv2.VideoWriter(clip_path, fourcc, fps, (frames[0].shape[1], frames[0].shape[0]))\n",
    "        for frame in frames:\n",
    "            out.write(frame)\n",
    "        out.release()\n",
    "        clip_count += 1\n",
    "\n",
    "# Release the video object\n",
    "video.release()\n",
    "\n",
    "print(f\"Extracted {clip_count} clips.\")"
   ]
  }
 ],
 "metadata": {
  "kernelspec": {
   "display_name": "openmmlab",
   "language": "python",
   "name": "python3"
  },
  "language_info": {
   "codemirror_mode": {
    "name": "ipython",
    "version": 3
   },
   "file_extension": ".py",
   "mimetype": "text/x-python",
   "name": "python",
   "nbconvert_exporter": "python",
   "pygments_lexer": "ipython3",
   "version": "3.8.17"
  },
  "orig_nbformat": 4
 },
 "nbformat": 4,
 "nbformat_minor": 2
}
